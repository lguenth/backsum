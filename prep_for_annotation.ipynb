{
 "cells": [
  {
   "cell_type": "code",
   "execution_count": 1,
   "metadata": {},
   "outputs": [],
   "source": [
    "import json\n",
    "from pathlib import Path\n",
    "import pandas as pd\n",
    "import codecs"
   ]
  },
  {
   "cell_type": "code",
   "execution_count": 2,
   "metadata": {},
   "outputs": [],
   "source": [
    "# Create annotation JSON\n",
    "def prepare_for_annotation(data):\n",
    "    for summary in data:\n",
    "        annotations = []\n",
    "\n",
    "        with codecs.open(summary, \"r\", encoding=\"latin-1\") as file:\n",
    "            for index, sentence in enumerate(file, start=1):\n",
    "                annotation = {\n",
    "                    \"source_id\": index,\n",
    "                    \"target_id\": None,\n",
    "                    \"summary_text\": sentence.rstrip(),\n",
    "                    \"paper_text\": \"\",\n",
    "                    \"match\": \"\",\n",
    "                }\n",
    "                annotations.append(annotation)\n",
    "\n",
    "        if len(str(summary).split(\"/\")) > 3:\n",
    "            path = f\"annotation/{summary.stem}-{str(summary).split('/')[2]}.json\"\n",
    "        else:\n",
    "            path = f\"annotation/{summary.stem}.json\"\n",
    "\n",
    "        with open(path, \"w\") as f:\n",
    "            json.dump(annotations, f, ensure_ascii=False, indent=4)\n",
    "\n",
    "summaries = Path(\"data/summaries\").glob(\"**/*.txt\")\n",
    "\n",
    "Path(\"annotation\").mkdir(exist_ok=True)\n",
    "prepare_for_annotation(summaries)\n"
   ]
  }
 ],
 "metadata": {
  "kernelspec": {
   "display_name": "nlp",
   "language": "python",
   "name": "python3"
  },
  "language_info": {
   "codemirror_mode": {
    "name": "ipython",
    "version": 3
   },
   "file_extension": ".py",
   "mimetype": "text/x-python",
   "name": "python",
   "nbconvert_exporter": "python",
   "pygments_lexer": "ipython3",
   "version": "3.10.12"
  },
  "orig_nbformat": 4
 },
 "nbformat": 4,
 "nbformat_minor": 2
}
