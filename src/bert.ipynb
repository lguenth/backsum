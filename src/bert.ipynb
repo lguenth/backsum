{
 "cells": [
  {
   "cell_type": "code",
   "execution_count": 3,
   "metadata": {},
   "outputs": [],
   "source": [
    "import pandas as pd\n",
    "import numpy as np\n",
    "from sklearn.model_selection import train_test_split\n",
    "import datasets\n",
    "from sentence_transformers import SentenceTransformer, util"
   ]
  },
  {
   "cell_type": "code",
   "execution_count": 125,
   "metadata": {},
   "outputs": [],
   "source": [
    "annotations = pd.read_pickle(\"../data/binary-dataset.pkl\")\n",
    "\n",
    "dataset = annotations[[\"source_text\", \"target_text\", \"label\"]].copy()\n",
    "# dataset[\"strategy\"] = annotations[\"strategy\"].astype(\"category\").cat.codes\n",
    "\n",
    "print(f\"Non-matching examples:\\n{dataset.loc[dataset.label == 0].info()}\\n\\n\")\n",
    "print(f\"Matching examples:\\n{dataset.loc[dataset.label == 1].info()}\")"
   ]
  },
  {
   "cell_type": "code",
   "execution_count": null,
   "metadata": {},
   "outputs": [],
   "source": [
    "train_data, test_data = train_test_split(dataset, test_size=0.2, shuffle=True, random_state=42)\n",
    "\n",
    "train_data.to_csv(\"../data/train.csv\", index=False)\n",
    "train_data.to_json(\"../data/train.jsonl\", orient=\"records\")\n",
    "\n",
    "test_data.to_csv(\"../data/test.csv\", index=False)\n",
    "test_data.to_json(\"../data/test.jsonl\", orient=\"records\")"
   ]
  },
  {
   "cell_type": "code",
   "execution_count": null,
   "metadata": {},
   "outputs": [],
   "source": [
    "source_texts = df[\"source_text\"].to_list()\n",
    "target_texts = df[\"target_text\"].to_list()\n",
    "labels = df[\"label\"].astype(\"int\").to_list()\n",
    "\n",
    "sentence_tf = SentenceTransformer('all-MiniLM-L6-v2')\n",
    "source_embeddings = sentence_tf.encode(source_texts, convert_to_tensor=True)\n",
    "target_embeddings = sentence_tf.encode(target_texts, convert_to_tensor=True)\n",
    "\n",
    "cos_sim = np.array(util.cos_sim(source_embeddings, target_embeddings))\n",
    "df[\"cos_sim\"] = [sim[0] for sim in cos_sim]"
   ]
  },
  {
   "cell_type": "code",
   "execution_count": null,
   "metadata": {},
   "outputs": [],
   "source": [
    "# Working example: Binary classification, fine-tuned on distilbert-base-uncased\n",
    "\n",
    "from transformers import TrainingArguments, Trainer, AutoTokenizer, AutoModelForSequenceClassification\n",
    "import datasets\n",
    "import numpy as np\n",
    "import evaluate\n",
    "\n",
    "def preprocess_function(batch):\n",
    "    return tokenizer(batch[\"source_text\"], batch[\"target_text\"], truncation=True, padding=\"max_length\")\n",
    "\n",
    "tokenizer = AutoTokenizer.from_pretrained(\"distilbert-base-uncased\")\n",
    "dataset = datasets.load_dataset(\"lguenth/backsum\", data_files={\"train\": \"train/seqclass-train.jsonl\", \"test\": \"test/seqclass-test.jsonl\"})\n",
    "tokenized_data = dataset.map(preprocess_function, batched=True)\n",
    "print(tokenized_data)\n",
    "\n",
    "def compute_metrics(eval_pred):\n",
    "    f1_score = datasets.load_metric(\"f1\")\n",
    "    logits, labels = eval_pred\n",
    "    predictions = np.argmax(logits, axis=-1)\n",
    "    print(labels)\n",
    "    print(predictions)\n",
    "    f1_score.add_batch(predictions=predictions, references=labels)\n",
    "    return f1_score.compute()\n",
    "\n",
    "model = AutoModelForSequenceClassification.from_pretrained(\"distilbert-base-uncased\", num_labels=2)\n",
    "\n",
    "training_args = TrainingArguments(\n",
    "    output_dir=\"./results\",\n",
    "    num_train_epochs=1,\n",
    "    per_device_train_batch_size=16,\n",
    "    per_device_eval_batch_size=64,\n",
    "    warmup_steps=50,\n",
    "    weight_decay=0.01,\n",
    "    logging_dir='./logs',\n",
    "    logging_steps=10,\n",
    ")\n",
    "\n",
    "trainer = Trainer(\n",
    "    model=model,                         \n",
    "    args=training_args,\n",
    "    train_dataset=tokenized_data[\"train\"],\n",
    "    eval_dataset=tokenized_data[\"test\"],\n",
    "    compute_metrics=compute_metrics,\n",
    ")\n",
    "\n",
    "trainer.train()\n",
    "trainer.evaluate()"
   ]
  }
 ],
 "metadata": {
  "kernelspec": {
   "display_name": ".venv",
   "language": "python",
   "name": "python3"
  },
  "language_info": {
   "codemirror_mode": {
    "name": "ipython",
    "version": 3
   },
   "file_extension": ".py",
   "mimetype": "text/x-python",
   "name": "python",
   "nbconvert_exporter": "python",
   "pygments_lexer": "ipython3",
   "version": "3.11.5"
  },
  "orig_nbformat": 4
 },
 "nbformat": 4,
 "nbformat_minor": 2
}
