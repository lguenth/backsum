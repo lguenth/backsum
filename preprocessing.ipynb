{
 "cells": [
  {
   "cell_type": "code",
   "execution_count": null,
   "metadata": {},
   "outputs": [],
   "source": [
    "import json\n",
    "from pathlib import Path\n",
    "import pandas as pd\n",
    "from transformers import AutoTokenizer"
   ]
  },
  {
   "cell_type": "code",
   "execution_count": null,
   "metadata": {},
   "outputs": [],
   "source": [
    "df = pd.read_pickle(\"data.pkl\")"
   ]
  },
  {
   "cell_type": "code",
   "execution_count": null,
   "metadata": {},
   "outputs": [],
   "source": [
    "# TODO Rewrite pseudocode\n",
    "# Create annotation JSON\n",
    "# sid = 0 if no match → replace with np.nan\n",
    "def prepare_annotation(data):\n",
    "    for paper in data:\n",
    "        annotation_list = []\n",
    "\n",
    "        for sentence in paper:\n",
    "            annotation = {\n",
    "                \"summary_sid\": 1, # created based on len(sentences), excluding first occurrence if still in there\n",
    "                \"paper_sid\": paper_sid, # annotated manually\n",
    "                \"summary_text\": summary_raw_text, # extracted before annotation\n",
    "                \"paper_text\": paper_raw_text, # extracted after annotation\n",
    "            }\n",
    "\n",
    "            annotation_list.append(annotation)\n",
    "\n",
    "        with open(f\"data/annotation/{document_uid}.json\") as file:\n",
    "            json.dumps(file, annotation_list)\n",
    "\n",
    "def process_annotation(data):\n",
    "    json.read(file)\n",
    "\n",
    "prepare_annotation(data)"
   ]
  },
  {
   "cell_type": "code",
   "execution_count": null,
   "metadata": {},
   "outputs": [],
   "source": [
    "# TODO Check what the longest sentence is\n",
    "def preprocess(data):\n",
    "    tokenizer = AutoTokenizer.from_pretrained(\"bert-base-cased\")\n",
    "    example = data[\"raw_summary\"][0]\n",
    "    encoded_source = tokenizer(example)\n",
    "\n",
    "    with tokenizer.as_target_tokenizer():\n",
    "        labels = tokenizer(data[\"raw_paper\"], max_length=512, truncation=True)\n",
    "    \n",
    "    model_inputs[\"labels\"] = labels[\"input_ids\"]\n",
    "\n",
    "    return example, encoded_source"
   ]
  },
  {
   "cell_type": "code",
   "execution_count": null,
   "metadata": {},
   "outputs": [],
   "source": [
    "prepare_annotation(df)"
   ]
  }
 ],
 "metadata": {
  "kernelspec": {
   "display_name": "nlp",
   "language": "python",
   "name": "python3"
  },
  "language_info": {
   "codemirror_mode": {
    "name": "ipython",
    "version": 3
   },
   "file_extension": ".py",
   "mimetype": "text/x-python",
   "name": "python",
   "nbconvert_exporter": "python",
   "pygments_lexer": "ipython3",
   "version": "3.10.12"
  },
  "orig_nbformat": 4
 },
 "nbformat": 4,
 "nbformat_minor": 2
}
